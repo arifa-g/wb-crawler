{
 "cells": [
  {
   "cell_type": "code",
   "execution_count": 1,
   "id": "a7bdc655",
   "metadata": {},
   "outputs": [],
   "source": [
    "import os\n",
    "def create_project_dir(directory):\n",
    "    if not os.path.exists(directory):\n",
    "        os.makedirs(directory)\n",
    "        print(\"created directory\"+directory)\n",
    "create_project_dir(\"thesite\")"
   ]
  },
  {
   "cell_type": "code",
   "execution_count": null,
   "id": "4976be7b",
   "metadata": {},
   "outputs": [],
   "source": [
    "def create_data_files(project_name,base_url):\n",
    "    queue=os.path.join(project_name,'queue.txt')\n",
    "    crawled=os.path.join(project_name,'crawled.txt')\n",
    "    if not os.path.file(queue):\n",
    "        write_file(queue,base_url)\n",
    "    if not os.path.file(crawled):\n",
    "        write_file(crawled,'')\n",
    "def write_file(path,data):\n",
    "    \n",
    "    with open(path,'w') as f:\n",
    "        f.write(data)\n",
    "def append_to_file(path,data):\n",
    "    with open(path,'a') as f:\n",
    "        \n",
    "        f.write(data,'\\n')\n",
    "def delete_file_contents(path):\n",
    "    open(path,'w').close()\n",
    "def file_to_set(file_name):\n",
    "    results=set()\n",
    "    with open(file_name,'rt') as f:\n",
    "        for line in f:\n",
    "            results.add(line.replace('\\n',''))\n",
    "    return results\n",
    "def set_to_file(links,filename):\n",
    "    with open(file_name,\"w\") as f:\n",
    "        for l in sorted(links):\n",
    "            f.write(l+\"\\n\")\n",
    "        "
   ]
  },
  {
   "cell_type": "code",
   "execution_count": null,
   "id": "b3a11f60",
   "metadata": {},
   "outputs": [],
   "source": []
  }
 ],
 "metadata": {
  "kernelspec": {
   "display_name": "Python 3 (ipykernel)",
   "language": "python",
   "name": "python3"
  },
  "language_info": {
   "codemirror_mode": {
    "name": "ipython",
    "version": 3
   },
   "file_extension": ".py",
   "mimetype": "text/x-python",
   "name": "python",
   "nbconvert_exporter": "python",
   "pygments_lexer": "ipython3",
   "version": "3.9.12"
  }
 },
 "nbformat": 4,
 "nbformat_minor": 5
}
