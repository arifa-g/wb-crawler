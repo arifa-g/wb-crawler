{
 "cells": [
  {
   "cell_type": "code",
   "execution_count": 3,
   "id": "f4e4c7c7",
   "metadata": {},
   "outputs": [],
   "source": [
    "from html.parser import HTMLParser\n",
    "from urllib.parse import urlparse\n",
    "# from urlparse import urlparse\n",
    "class LinkFinder(HTMLParser):\n",
    "    def __init__(self,base_url,page_url):\n",
    "        super().__init__()\n",
    "        self.base_url=base_url\n",
    "        self.page_url=page_url\n",
    "        self.link=set()\n",
    "    def error(self,message):\n",
    "        pass\n",
    "    def handle_starttag(self,tag,attrs):\n",
    "        if tag=='a':\n",
    "            for(attribute,value) in attrs:\n",
    "                if attribute=='href':\n",
    "                    url=parse.urljoin(self.base_url,value)\n",
    "                    self.links.add(url)\n",
    "    def page_links(self):\n",
    "        return self.links\n",
    "    "
   ]
  },
  {
   "cell_type": "code",
   "execution_count": 2,
   "id": "8f379f8f",
   "metadata": {},
   "outputs": [
    {
     "name": "stdout",
     "output_type": "stream",
     "text": [
      "Requirement already satisfied: six in c:\\users\\hp\\anaconda3\\lib\\site-packages (1.16.0)\n",
      "Note: you may need to restart the kernel to use updated packages.\n"
     ]
    }
   ],
   "source": [
    "pip install six\n"
   ]
  },
  {
   "cell_type": "code",
   "execution_count": null,
   "id": "a5032716",
   "metadata": {},
   "outputs": [],
   "source": []
  }
 ],
 "metadata": {
  "kernelspec": {
   "display_name": "Python 3 (ipykernel)",
   "language": "python",
   "name": "python3"
  },
  "language_info": {
   "codemirror_mode": {
    "name": "ipython",
    "version": 3
   },
   "file_extension": ".py",
   "mimetype": "text/x-python",
   "name": "python",
   "nbconvert_exporter": "python",
   "pygments_lexer": "ipython3",
   "version": "3.9.12"
  }
 },
 "nbformat": 4,
 "nbformat_minor": 5
}
