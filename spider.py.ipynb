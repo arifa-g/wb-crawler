{
 "cells": [
  {
   "cell_type": "code",
   "execution_count": 3,
   "id": "c5fcca9e",
   "metadata": {},
   "outputs": [
    {
     "ename": "ModuleNotFoundError",
     "evalue": "No module named 'link_finder'",
     "output_type": "error",
     "traceback": [
      "\u001b[1;31m---------------------------------------------------------------------------\u001b[0m",
      "\u001b[1;31mModuleNotFoundError\u001b[0m                       Traceback (most recent call last)",
      "Input \u001b[1;32mIn [3]\u001b[0m, in \u001b[0;36m<cell line: 2>\u001b[1;34m()\u001b[0m\n\u001b[0;32m      1\u001b[0m \u001b[38;5;28;01mfrom\u001b[39;00m \u001b[38;5;21;01murllib\u001b[39;00m\u001b[38;5;21;01m.\u001b[39;00m\u001b[38;5;21;01mrequest\u001b[39;00m \u001b[38;5;28;01mimport\u001b[39;00m urlopen\n\u001b[1;32m----> 2\u001b[0m \u001b[38;5;28;01mfrom\u001b[39;00m \u001b[38;5;21;01mlink_finder\u001b[39;00m \u001b[38;5;28;01mimport\u001b[39;00m LinkFinder\n\u001b[0;32m      3\u001b[0m \u001b[38;5;28;01mfrom\u001b[39;00m \u001b[38;5;21;01mdemo\u001b[39;00m \u001b[38;5;28;01mimport\u001b[39;00m \u001b[38;5;241m*\u001b[39m\n\u001b[0;32m      4\u001b[0m \u001b[38;5;28;01mclass\u001b[39;00m \u001b[38;5;21;01mSpider\u001b[39;00m:\n",
      "\u001b[1;31mModuleNotFoundError\u001b[0m: No module named 'link_finder'"
     ]
    }
   ],
   "source": [
    "from urllib.request import urlopen\n",
    "from link_finder import LinkFinder\n",
    "from demo import *\n",
    "class Spider:\n",
    "    project=\"\"\n",
    "    base_url=\"\"\n",
    "    domain_name=\"\"\n",
    "    queue_file=\"\"\n",
    "    crawled_file=\"\"\n",
    "    queue=set()\n",
    "    crawled=set()\n",
    "    def __init__(self,project_name,base_url,domain_name):\n",
    "        Spider.project_name=project_name\n",
    "        Spider.base_url=base_url\n",
    "        Spider.domain_name=domain_name\n",
    "        Spider.queue_file=Spider.project_name+'/queue.txt'\n",
    "        spider.crawled_file=spider.project+'/crawled.txt'\n",
    "        self.boot()\n",
    "        self.crawl_page(\"First spider\",Spider.base_url)\n",
    "    @staticmethod\n",
    "    def boot(self):\n",
    "        create_project_dir(Spider.project_name)\n",
    "        create_date_files(Spider.project_name,Spider.base_url)\n",
    "        Spider.queue=file_to_set(Spider.queue_file)\n",
    "        Spider.crawled=file_to_set(Spider.crawled_file)\n",
    "    @staticmethod\n",
    "    def crawl_page(thread_name,page_url):\n",
    "        if page_url not in Spider_crawled:\n",
    "            print(thread_name+\" Now crawling \"+pageurl)\n",
    "            print(\"Queue\"+str(len(Spider.queue))+'| crawled'+str(len(Spider.crawled)))\n",
    "            Spider.add_links_to_queue(spider.gather_links(page_url))\n",
    "            Spider.queue.remove(page_url)\n",
    "            Spider.crawled.add(page_url)\n",
    "            Spider.update_files()\n",
    "    @staticmethod\n",
    "    def gather_links(page_url):\n",
    "        html_string=\"\"\n",
    "        try:\n",
    "            response=urlopen(pageurl)\n",
    "            if 'text.html' in response.getheader('content-Type'):\n",
    "                html_bytes=response.read()\n",
    "                html_string_html_bytes.decode('utf-8')\n",
    "            Finder=LinkFinder(Spider.base_url,page_url)\n",
    "            Finder.feed(html_String)\n",
    "        except Exception as e:\n",
    "            print(str(e))\n",
    "            return set()\n",
    "        return Finder.page_links()"
   ]
  },
  {
   "cell_type": "raw",
   "id": "d580b3a3",
   "metadata": {},
   "source": [
    "f"
   ]
  }
 ],
 "metadata": {
  "kernelspec": {
   "display_name": "Python 3 (ipykernel)",
   "language": "python",
   "name": "python3"
  },
  "language_info": {
   "codemirror_mode": {
    "name": "ipython",
    "version": 3
   },
   "file_extension": ".py",
   "mimetype": "text/x-python",
   "name": "python",
   "nbconvert_exporter": "python",
   "pygments_lexer": "ipython3",
   "version": "3.9.12"
  }
 },
 "nbformat": 4,
 "nbformat_minor": 5
}
